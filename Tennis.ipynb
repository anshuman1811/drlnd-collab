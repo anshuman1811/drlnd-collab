{
 "cells": [
  {
   "cell_type": "markdown",
   "metadata": {},
   "source": [
    "# Collaboration and Competition\n",
    "\n",
    "---\n",
    "\n",
    "In this notebook, you will learn how to use the Unity ML-Agents environment for the third project of the [Deep Reinforcement Learning Nanodegree](https://www.udacity.com/course/deep-reinforcement-learning-nanodegree--nd893) program.\n",
    "\n",
    "### 1. Start the Environment\n",
    "\n",
    "We begin by importing the necessary packages.  If the code cell below returns an error, please revisit the project instructions to double-check that you have installed [Unity ML-Agents](https://github.com/Unity-Technologies/ml-agents/blob/master/docs/Installation.md) and [NumPy](http://www.numpy.org/)."
   ]
  },
  {
   "cell_type": "code",
   "execution_count": 1,
   "metadata": {},
   "outputs": [],
   "source": [
    "from unityagents import UnityEnvironment\n",
    "import numpy as np"
   ]
  },
  {
   "cell_type": "markdown",
   "metadata": {},
   "source": [
    "Next, we will start the environment!  **_Before running the code cell below_**, change the `file_name` parameter to match the location of the Unity environment that you downloaded.\n",
    "\n",
    "- **Mac**: `\"path/to/Tennis.app\"`\n",
    "- **Windows** (x86): `\"path/to/Tennis_Windows_x86/Tennis.exe\"`\n",
    "- **Windows** (x86_64): `\"path/to/Tennis_Windows_x86_64/Tennis.exe\"`\n",
    "- **Linux** (x86): `\"path/to/Tennis_Linux/Tennis.x86\"`\n",
    "- **Linux** (x86_64): `\"path/to/Tennis_Linux/Tennis.x86_64\"`\n",
    "- **Linux** (x86, headless): `\"path/to/Tennis_Linux_NoVis/Tennis.x86\"`\n",
    "- **Linux** (x86_64, headless): `\"path/to/Tennis_Linux_NoVis/Tennis.x86_64\"`\n",
    "\n",
    "For instance, if you are using a Mac, then you downloaded `Tennis.app`.  If this file is in the same folder as the notebook, then the line below should appear as follows:\n",
    "```\n",
    "env = UnityEnvironment(file_name=\"Tennis.app\")\n",
    "```"
   ]
  },
  {
   "cell_type": "code",
   "execution_count": 2,
   "metadata": {},
   "outputs": [
    {
     "name": "stderr",
     "output_type": "stream",
     "text": [
      "INFO:unityagents:\n",
      "'Academy' started successfully!\n",
      "Unity Academy name: Academy\n",
      "        Number of Brains: 1\n",
      "        Number of External Brains : 1\n",
      "        Lesson number : 0\n",
      "        Reset Parameters :\n",
      "\t\t\n",
      "Unity brain name: TennisBrain\n",
      "        Number of Visual Observations (per agent): 0\n",
      "        Vector Observation space type: continuous\n",
      "        Vector Observation space size (per agent): 8\n",
      "        Number of stacked Vector Observation: 3\n",
      "        Vector Action space type: continuous\n",
      "        Vector Action space size (per agent): 2\n",
      "        Vector Action descriptions: , \n"
     ]
    }
   ],
   "source": [
    "env = UnityEnvironment(file_name=\"C:/Users/anshmish/Desktop/Personal/Courses/DRLND/deep-reinforcement-learning/p3_collab-compet/Tennis_Windows_x86_64/Tennis.exe\")"
   ]
  },
  {
   "cell_type": "markdown",
   "metadata": {},
   "source": [
    "Environments contain **_brains_** which are responsible for deciding the actions of their associated agents. Here we check for the first brain available, and set it as the default brain we will be controlling from Python."
   ]
  },
  {
   "cell_type": "code",
   "execution_count": 3,
   "metadata": {},
   "outputs": [],
   "source": [
    "# get the default brain\n",
    "brain_name = env.brain_names[0]\n",
    "brain = env.brains[brain_name]"
   ]
  },
  {
   "cell_type": "markdown",
   "metadata": {},
   "source": [
    "### 2. Examine the State and Action Spaces\n",
    "\n",
    "In this environment, two agents control rackets to bounce a ball over a net. If an agent hits the ball over the net, it receives a reward of +0.1.  If an agent lets a ball hit the ground or hits the ball out of bounds, it receives a reward of -0.01.  Thus, the goal of each agent is to keep the ball in play.\n",
    "\n",
    "The observation space consists of 8 variables corresponding to the position and velocity of the ball and racket. Two continuous actions are available, corresponding to movement toward (or away from) the net, and jumping. \n",
    "\n",
    "Run the code cell below to print some information about the environment."
   ]
  },
  {
   "cell_type": "code",
   "execution_count": 4,
   "metadata": {},
   "outputs": [
    {
     "name": "stdout",
     "output_type": "stream",
     "text": [
      "Number of agents: 2\n",
      "Number of actions: 2\n",
      "States look like: [ 0.          0.          0.          0.          0.          0.\n",
      "  0.          0.          0.          0.          0.          0.\n",
      "  0.          0.          0.          0.         -6.65278625 -1.5\n",
      " -0.          0.          6.83172083  6.         -0.          0.        ]\n",
      "States have length: 24\n"
     ]
    }
   ],
   "source": [
    "# reset the environment\n",
    "env_info = env.reset(train_mode=True)[brain_name]\n",
    "\n",
    "# number of agents in the environment\n",
    "n_agents = len(env_info.agents)\n",
    "print('Number of agents:', len(env_info.agents))\n",
    "\n",
    "# number of actions\n",
    "action_size = brain.vector_action_space_size\n",
    "print('Number of actions:', action_size)\n",
    "\n",
    "# examine the state space \n",
    "state = env_info.vector_observations[0]\n",
    "print('States look like:', state)\n",
    "state_size = len(state)\n",
    "print('States have length:', state_size)"
   ]
  },
  {
   "cell_type": "markdown",
   "metadata": {},
   "source": [
    "### 3. Train the Agent"
   ]
  },
  {
   "cell_type": "code",
   "execution_count": 5,
   "metadata": {},
   "outputs": [],
   "source": [
    "def trainAgent(agent, n_episodes=400, timeout=1000, score_window_size=100, solution_score=0.5):\n",
    "    print('\\nTraining agent ')\n",
    "    scores = []                                                 # list containing scores from each episode\n",
    "    avg_scores = []                                             # list containing average scores from 100 episode windows\n",
    "    scores_window = deque(maxlen=score_window_size)             # last 'score_window_size' scores for candidate solution\n",
    "    \n",
    "    seed = random.seed(0)\n",
    "    max_score = 0.0\n",
    "    best_avg_score = 0.0\n",
    "    solved = False\n",
    "\n",
    "    for episode in range(n_episodes):\n",
    "        start_time = time.time()\n",
    "        env_info = env.reset(train_mode=True)[brain_name]       # reset the environment\n",
    "        states = env_info.vector_observations                   # get the current state(s)\n",
    "        ep_scores = np.zeros(n_agents)\n",
    "        agent.reset()\n",
    "\n",
    "        for t in range(timeout):\n",
    "            # Query agent for actions\n",
    "            actions = agent.act(states)\n",
    "\n",
    "            # t_agent_action = time.time()\n",
    "            env_info = env.step(actions)[brain_name]             # send the action to the environment and get feedback\n",
    "            # t_env_step = time.time()\n",
    "\n",
    "            next_states = env_info.vector_observations           # get the next state\n",
    "            rewards = env_info.rewards                           # get the reward\n",
    "            dones = env_info.local_done                          # see if episode has finished\n",
    "\n",
    "            # Move the agent a step\n",
    "            # t_env_obs = time.time()\n",
    "            agent.step(states, actions, rewards, next_states, dones)\n",
    "\n",
    "            ep_scores += np.array(rewards)                       # update the score(s)\n",
    "            states = next_states                                 # updates the state(s)\n",
    "\n",
    "            # t_end = time.time()\n",
    "\n",
    "            # print('\\rStep: {:d}\\tGet Action: {:.3f}\\tEnv Action: {:.3f}\\tAgent Step: {:.3f}\\tTotal: {:.3f}'.format(t,t_agent_action-t_start, t_env_step-t_agent_action, t_end-t_env_obs, t_end-t_start), end=\"\")\n",
    "\n",
    "            if np.any(dones):                                    # exit loop if any of the episodes finished\n",
    "                break\n",
    "\n",
    "        # Cache the score(s)\n",
    "        # print(ep_scores)\n",
    "        scores.append(np.max(ep_scores))\n",
    "        scores_window.append(np.max(ep_scores))\n",
    "        avg_scores.append(np.mean(scores_window))\n",
    "        max_score = max(np.max(ep_scores), max_score)\n",
    "\n",
    "        episode_time = time.time()-start_time\n",
    "\n",
    "        # Print episode results\n",
    "        print('\\rEpisode {}\\ttime: {:.3f}\\tScore: {:.2f}\\tAverage Score: {:.3f}\\tWindow Max: {:.2f}\\tMax Score: {:.2f}'.format(episode, episode_time, np.max(ep_scores), np.mean(scores_window), np.max(scores_window), max_score), end=\"\")\n",
    "\n",
    "        if episode % 100 == 0:\n",
    "            print()\n",
    "            # plt.draw()\n",
    "\n",
    "        if np.mean(scores_window) > best_avg_score:\n",
    "            torch.save(agent.actor.state_dict(), 'checkpoint_actor.pth')\n",
    "            torch.save(agent.critic.state_dict(), 'checkpoint_critic.pth')\n",
    "            best_avg_score = np.mean(scores_window)\n",
    "\n",
    "        # Print if solution score achieved\n",
    "        if not solved and np.mean(scores_window)>=solution_score:\n",
    "            print('\\nEnvironment solved in {:d} episodes!\\tAverage Score: {:.2f}\\n'.format(episode-100, np.mean(scores_window)))\n",
    "            solved = True\n",
    "    \n",
    "    print(\"\\nTraining Completed!\")\n",
    "    return scores, avg_scores"
   ]
  },
  {
   "cell_type": "code",
   "execution_count": 7,
   "metadata": {},
   "outputs": [
    {
     "name": "stdout",
     "output_type": "stream",
     "text": [
      "cuda:0\n"
     ]
    }
   ],
   "source": [
    "import torch\n",
    "import random\n",
    "from collections import deque\n",
    "import matplotlib.pyplot as plt\n",
    "from ddpg import DDPGAgent\n",
    "import argparse, sys\n",
    "import time"
   ]
  },
  {
   "cell_type": "code",
   "execution_count": 6,
   "metadata": {},
   "outputs": [
    {
     "name": "stdout",
     "output_type": "stream",
     "text": [
      "cuda:0\n",
      "\n",
      "Training agent \n",
      "Episode 0\ttime: 0.322\tScore: 0.00\tAverage Score: 0.000\tWindow Max: 0.00\tMax Score: 0.00\n",
      "Episode 100\ttime: 0.388\tScore: 0.00\tAverage Score: 0.006\tWindow Max: 0.20\tMax Score: 0.20\n",
      "Episode 200\ttime: 1.279\tScore: 0.10\tAverage Score: 0.045\tWindow Max: 0.10\tMax Score: 0.20\n",
      "Episode 300\ttime: 1.031\tScore: 0.10\tAverage Score: 0.070\tWindow Max: 0.50\tMax Score: 0.50\n",
      "Episode 400\ttime: 3.151\tScore: 0.19\tAverage Score: 0.078\tWindow Max: 0.29\tMax Score: 0.50\n",
      "Episode 500\ttime: 1.132\tScore: 0.10\tAverage Score: 0.085\tWindow Max: 0.20\tMax Score: 0.50\n",
      "Episode 600\ttime: 2.206\tScore: 0.10\tAverage Score: 0.101\tWindow Max: 0.40\tMax Score: 0.50\n",
      "Episode 700\ttime: 1.366\tScore: 0.10\tAverage Score: 0.093\tWindow Max: 0.50\tMax Score: 0.50\n",
      "Episode 800\ttime: 0.739\tScore: 0.00\tAverage Score: 0.045\tWindow Max: 0.10\tMax Score: 0.50\n",
      "Episode 900\ttime: 0.740\tScore: 0.00\tAverage Score: 0.020\tWindow Max: 0.20\tMax Score: 0.50\n",
      "Episode 1000\ttime: 0.711\tScore: 0.00\tAverage Score: 0.007\tWindow Max: 0.10\tMax Score: 0.50\n",
      "Episode 1100\ttime: 0.851\tScore: 0.00\tAverage Score: 0.008\tWindow Max: 0.10\tMax Score: 0.50\n",
      "Episode 1200\ttime: 0.377\tScore: 0.00\tAverage Score: 0.026\tWindow Max: 0.60\tMax Score: 0.600\n",
      "Episode 1300\ttime: 1.424\tScore: 0.09\tAverage Score: 0.016\tWindow Max: 0.20\tMax Score: 0.60\n",
      "Episode 1400\ttime: 0.807\tScore: 0.00\tAverage Score: 0.077\tWindow Max: 0.20\tMax Score: 0.60\n",
      "Episode 1500\ttime: 0.840\tScore: 0.00\tAverage Score: 0.027\tWindow Max: 0.10\tMax Score: 0.60\n",
      "Episode 1600\ttime: 1.159\tScore: 0.10\tAverage Score: 0.031\tWindow Max: 0.10\tMax Score: 0.60\n",
      "Episode 1700\ttime: 0.776\tScore: 0.00\tAverage Score: 0.021\tWindow Max: 0.10\tMax Score: 0.60\n",
      "Episode 1800\ttime: 0.803\tScore: 0.00\tAverage Score: 0.020\tWindow Max: 0.30\tMax Score: 0.60\n",
      "Episode 1900\ttime: 1.958\tScore: 0.10\tAverage Score: 0.028\tWindow Max: 0.20\tMax Score: 0.60\n",
      "Episode 2000\ttime: 0.747\tScore: 0.00\tAverage Score: 0.048\tWindow Max: 0.30\tMax Score: 0.60\n",
      "Episode 2100\ttime: 0.700\tScore: 0.00\tAverage Score: 0.010\tWindow Max: 0.10\tMax Score: 0.60\n",
      "Episode 2200\ttime: 0.710\tScore: 0.00\tAverage Score: 0.010\tWindow Max: 0.10\tMax Score: 0.60\n",
      "Episode 2300\ttime: 0.998\tScore: 0.09\tAverage Score: 0.025\tWindow Max: 0.29\tMax Score: 0.60\n",
      "Episode 2400\ttime: 0.746\tScore: 0.00\tAverage Score: 0.053\tWindow Max: 1.10\tMax Score: 1.100\n",
      "Episode 2500\ttime: 0.724\tScore: 0.00\tAverage Score: 0.080\tWindow Max: 0.70\tMax Score: 1.10\n",
      "Episode 2600\ttime: 0.393\tScore: 0.00\tAverage Score: 0.063\tWindow Max: 0.90\tMax Score: 1.100\n",
      "Episode 2700\ttime: 0.688\tScore: 0.00\tAverage Score: 0.019\tWindow Max: 0.20\tMax Score: 1.10\n",
      "Episode 2800\ttime: 0.382\tScore: 0.00\tAverage Score: 0.074\tWindow Max: 0.20\tMax Score: 1.10\n",
      "Episode 2900\ttime: 0.847\tScore: 0.00\tAverage Score: 0.059\tWindow Max: 0.20\tMax Score: 1.10\n",
      "Episode 3000\ttime: 1.888\tScore: 0.10\tAverage Score: 0.065\tWindow Max: 0.20\tMax Score: 1.10\n",
      "Episode 3100\ttime: 1.549\tScore: 0.00\tAverage Score: 0.055\tWindow Max: 0.20\tMax Score: 1.10\n",
      "Episode 3200\ttime: 1.223\tScore: 0.10\tAverage Score: 0.074\tWindow Max: 0.20\tMax Score: 1.10\n",
      "Episode 3300\ttime: 1.105\tScore: 0.10\tAverage Score: 0.127\tWindow Max: 0.60\tMax Score: 1.10\n",
      "Episode 3400\ttime: 0.532\tScore: 0.00\tAverage Score: 0.091\tWindow Max: 0.70\tMax Score: 1.100\n",
      "Episode 3500\ttime: 0.385\tScore: 0.00\tAverage Score: 0.064\tWindow Max: 0.30\tMax Score: 1.10\n",
      "Episode 3600\ttime: 0.421\tScore: 0.00\tAverage Score: 0.072\tWindow Max: 0.30\tMax Score: 1.10\n",
      "Episode 3700\ttime: 0.430\tScore: 0.00\tAverage Score: 0.048\tWindow Max: 1.00\tMax Score: 1.100\n",
      "Episode 3800\ttime: 0.800\tScore: 0.00\tAverage Score: 0.085\tWindow Max: 1.59\tMax Score: 1.599\n",
      "Episode 3900\ttime: 1.202\tScore: 0.10\tAverage Score: 0.053\tWindow Max: 0.70\tMax Score: 1.599\n",
      "Episode 4000\ttime: 1.526\tScore: 0.10\tAverage Score: 0.102\tWindow Max: 0.50\tMax Score: 1.59\n",
      "Episode 4100\ttime: 2.067\tScore: 0.20\tAverage Score: 0.097\tWindow Max: 0.40\tMax Score: 1.59\n",
      "Episode 4200\ttime: 0.765\tScore: 0.00\tAverage Score: 0.056\tWindow Max: 0.30\tMax Score: 1.59\n",
      "Episode 4300\ttime: 2.910\tScore: 0.10\tAverage Score: 0.056\tWindow Max: 0.50\tMax Score: 1.59\n",
      "Episode 4400\ttime: 1.202\tScore: 0.10\tAverage Score: 0.104\tWindow Max: 2.00\tMax Score: 2.000\n",
      "Episode 4500\ttime: 2.172\tScore: 0.10\tAverage Score: 0.087\tWindow Max: 1.50\tMax Score: 2.000\n",
      "Episode 4600\ttime: 4.620\tScore: 0.29\tAverage Score: 0.285\tWindow Max: 2.60\tMax Score: 2.600\n",
      "Episode 4700\ttime: 1.204\tScore: 0.09\tAverage Score: 0.179\tWindow Max: 1.00\tMax Score: 2.600\n",
      "Episode 4800\ttime: 1.145\tScore: 0.10\tAverage Score: 0.162\tWindow Max: 1.50\tMax Score: 2.600\n",
      "Episode 4900\ttime: 1.194\tScore: 0.09\tAverage Score: 0.130\tWindow Max: 1.00\tMax Score: 2.600\n",
      "Episode 5000\ttime: 0.768\tScore: 0.00\tAverage Score: 0.124\tWindow Max: 1.09\tMax Score: 2.600\n",
      "Episode 5100\ttime: 0.398\tScore: 0.00\tAverage Score: 0.080\tWindow Max: 0.20\tMax Score: 2.60\n",
      "Episode 5200\ttime: 0.409\tScore: 0.00\tAverage Score: 0.078\tWindow Max: 0.20\tMax Score: 2.60\n",
      "Episode 5300\ttime: 1.215\tScore: 0.10\tAverage Score: 0.170\tWindow Max: 2.00\tMax Score: 2.600\n",
      "Episode 5400\ttime: 1.203\tScore: 0.10\tAverage Score: 0.119\tWindow Max: 0.70\tMax Score: 2.600\n",
      "Episode 5500\ttime: 0.816\tScore: 0.10\tAverage Score: 0.169\tWindow Max: 1.30\tMax Score: 2.600\n",
      "Episode 5600\ttime: 2.819\tScore: 0.20\tAverage Score: 0.101\tWindow Max: 0.90\tMax Score: 2.600\n",
      "Episode 5700\ttime: 1.290\tScore: 0.10\tAverage Score: 0.230\tWindow Max: 2.50\tMax Score: 2.600\n",
      "Episode 5800\ttime: 0.809\tScore: 0.00\tAverage Score: 0.345\tWindow Max: 2.70\tMax Score: 2.700\n",
      "Episode 5890\ttime: 30.821\tScore: 1.80\tAverage Score: 0.514\tWindow Max: 2.70\tMax Score: 2.70\n",
      "Environment solved in 5790 episodes!\tAverage Score: 0.51\n",
      "\n",
      "Episode 5900\ttime: 44.200\tScore: 2.70\tAverage Score: 0.596\tWindow Max: 2.70\tMax Score: 2.70\n",
      "Episode 6000\ttime: 0.929\tScore: 0.10\tAverage Score: 0.590\tWindow Max: 2.70\tMax Score: 2.700\n",
      "Episode 6100\ttime: 0.885\tScore: 0.00\tAverage Score: 0.146\tWindow Max: 1.30\tMax Score: 2.700\n",
      "Episode 6200\ttime: 1.386\tScore: 0.09\tAverage Score: 0.059\tWindow Max: 0.40\tMax Score: 2.70\n",
      "Episode 6300\ttime: 0.868\tScore: 0.00\tAverage Score: 0.176\tWindow Max: 1.20\tMax Score: 2.700\n",
      "Episode 6400\ttime: 1.482\tScore: 0.10\tAverage Score: 0.298\tWindow Max: 2.60\tMax Score: 2.700\n",
      "Episode 6500\ttime: 0.901\tScore: 0.00\tAverage Score: 0.265\tWindow Max: 2.60\tMax Score: 2.700\n",
      "Episode 6600\ttime: 1.298\tScore: 0.10\tAverage Score: 0.104\tWindow Max: 0.90\tMax Score: 2.700\n",
      "Episode 6700\ttime: 0.465\tScore: 0.00\tAverage Score: 0.158\tWindow Max: 1.30\tMax Score: 2.700\n",
      "Episode 6800\ttime: 1.289\tScore: 0.10\tAverage Score: 0.158\tWindow Max: 1.50\tMax Score: 2.700\n",
      "Episode 6900\ttime: 0.882\tScore: 0.00\tAverage Score: 0.095\tWindow Max: 1.20\tMax Score: 2.700\n",
      "Episode 7000\ttime: 2.659\tScore: 0.10\tAverage Score: 0.085\tWindow Max: 0.20\tMax Score: 2.70\n",
      "Episode 7100\ttime: 3.092\tScore: 0.10\tAverage Score: 0.098\tWindow Max: 0.50\tMax Score: 2.70\n",
      "Episode 7200\ttime: 1.800\tScore: 0.10\tAverage Score: 0.168\tWindow Max: 2.60\tMax Score: 2.700\n",
      "Episode 7300\ttime: 1.310\tScore: 0.09\tAverage Score: 0.132\tWindow Max: 2.10\tMax Score: 2.700\n",
      "Episode 7400\ttime: 1.821\tScore: 0.10\tAverage Score: 0.078\tWindow Max: 0.10\tMax Score: 2.70\n",
      "Episode 7500\ttime: 1.306\tScore: 0.09\tAverage Score: 0.081\tWindow Max: 0.19\tMax Score: 2.70\n",
      "Episode 7600\ttime: 1.332\tScore: 0.10\tAverage Score: 0.100\tWindow Max: 0.60\tMax Score: 2.70\n",
      "Episode 7700\ttime: 1.302\tScore: 0.10\tAverage Score: 0.080\tWindow Max: 0.30\tMax Score: 2.70\n",
      "Episode 7800\ttime: 1.383\tScore: 0.09\tAverage Score: 0.088\tWindow Max: 0.70\tMax Score: 2.700\n",
      "Episode 7900\ttime: 1.881\tScore: 0.10\tAverage Score: 0.093\tWindow Max: 0.39\tMax Score: 2.70\n",
      "Episode 8000\ttime: 1.419\tScore: 0.09\tAverage Score: 0.115\tWindow Max: 1.70\tMax Score: 2.700\n",
      "Episode 8100\ttime: 1.356\tScore: 0.09\tAverage Score: 0.135\tWindow Max: 0.90\tMax Score: 2.700\n",
      "Episode 8200\ttime: 0.882\tScore: 0.00\tAverage Score: 0.295\tWindow Max: 2.70\tMax Score: 2.700\n",
      "Episode 8300\ttime: 0.864\tScore: 0.00\tAverage Score: 0.136\tWindow Max: 2.60\tMax Score: 2.700\n",
      "Episode 8400\ttime: 2.847\tScore: 0.20\tAverage Score: 0.274\tWindow Max: 2.70\tMax Score: 2.700\n",
      "Episode 8500\ttime: 2.760\tScore: 0.10\tAverage Score: 0.457\tWindow Max: 2.70\tMax Score: 2.700\n",
      "Episode 8600\ttime: 1.362\tScore: 0.09\tAverage Score: 0.138\tWindow Max: 1.00\tMax Score: 2.700\n",
      "Episode 8700\ttime: 2.277\tScore: 0.10\tAverage Score: 0.121\tWindow Max: 0.50\tMax Score: 2.70\n",
      "Episode 8800\ttime: 0.889\tScore: 0.00\tAverage Score: 0.114\tWindow Max: 0.40\tMax Score: 2.70\n",
      "Episode 8900\ttime: 7.801\tScore: 0.40\tAverage Score: 0.122\tWindow Max: 0.50\tMax Score: 2.70\n",
      "Episode 9000\ttime: 1.410\tScore: 0.09\tAverage Score: 0.071\tWindow Max: 0.39\tMax Score: 2.70\n",
      "Episode 9100\ttime: 1.382\tScore: 0.10\tAverage Score: 0.063\tWindow Max: 0.30\tMax Score: 2.70\n",
      "Episode 9200\ttime: 1.420\tScore: 0.10\tAverage Score: 0.117\tWindow Max: 1.90\tMax Score: 2.700\n",
      "Episode 9300\ttime: 1.367\tScore: 0.10\tAverage Score: 0.138\tWindow Max: 1.00\tMax Score: 2.700\n",
      "Episode 9400\ttime: 0.499\tScore: 0.00\tAverage Score: 0.223\tWindow Max: 1.89\tMax Score: 2.700\n",
      "Episode 9500\ttime: 1.454\tScore: 0.10\tAverage Score: 0.144\tWindow Max: 0.70\tMax Score: 2.700\n",
      "Episode 9600\ttime: 1.380\tScore: 0.10\tAverage Score: 0.132\tWindow Max: 0.80\tMax Score: 2.700\n",
      "Episode 9700\ttime: 0.482\tScore: 0.00\tAverage Score: 0.115\tWindow Max: 1.09\tMax Score: 2.700\n",
      "Episode 9800\ttime: 2.835\tScore: 0.10\tAverage Score: 0.082\tWindow Max: 0.60\tMax Score: 2.700\n",
      "Episode 9900\ttime: 3.004\tScore: 0.10\tAverage Score: 0.104\tWindow Max: 0.90\tMax Score: 2.700\n",
      "Episode 9999\ttime: 1.464\tScore: 0.10\tAverage Score: 0.105\tWindow Max: 0.90\tMax Score: 2.700\n",
      "Training Completed!\n"
     ]
    }
   ],
   "source": [
    "agent = DDPGAgent(state_size=state_size, action_size=action_size, n_agents=n_agents, seed=48)\n",
    "scores, avg_scores = trainAgent(agent, n_episodes=10000, timeout=2000)\n",
    "env.close()"
   ]
  },
  {
   "cell_type": "code",
   "execution_count": 9,
   "metadata": {},
   "outputs": [],
   "source": [
    "def plotScores(scores, avg_scores):\n",
    "    # plot the scores\n",
    "    fig = plt.figure()\n",
    "    ax = plt.subplot(111)\n",
    "    plt.plot(np.arange(len(scores)), scores, 'r')\n",
    "    plt.plot(np.arange(len(scores)), avg_scores, 'b')\n",
    "    plt.ylabel('Score')\n",
    "    plt.xlabel('Episode #')\n",
    "    plt.show()\n",
    "    plt.savefig('LearningCurve.png')"
   ]
  },
  {
   "cell_type": "code",
   "execution_count": 10,
   "metadata": {},
   "outputs": [
    {
     "data": {
      "image/png": "[encoded data removed]",
      "text/plain": [
       "<Figure size 432x288 with 1 Axes>"
      ]
     },
     "metadata": {
      "needs_background": "light"
     },
     "output_type": "display_data"
    },
    {
     "data": {
      "text/plain": [
       "<Figure size 432x288 with 0 Axes>"
      ]
     },
     "metadata": {},
     "output_type": "display_data"
    }
   ],
   "source": [
    "plotScores(scores, avg_scores)"
   ]
  },
  {
   "cell_type": "markdown",
   "metadata": {},
   "source": [
    "### Test Agent"
   ]
  },
  {
   "cell_type": "code",
   "execution_count": 8,
   "metadata": {},
   "outputs": [],
   "source": [
    "def testAgent():\n",
    "    print(\"Testing the Agent\")\n",
    "    agent = DDPGAgent(state_size=state_size, action_size=action_size, n_agents=n_agents, seed=48,pretrainedWeightsFile='checkpoint_actor.pth', train = False)\n",
    "    env_info = env.reset(train_mode=False)[brain_name]      # reset the environment\n",
    "    states = env_info.vector_observations                   # get the current state\n",
    "    score = np.zeros(n_agents)                              # initialize the score\n",
    "    while True:\n",
    "        actions = agent.act(states)                         # select an action\n",
    "        env_info = env.step(actions)[brain_name]            # send the action to the environment\n",
    "        next_states = env_info.vector_observations          # get the next state\n",
    "        rewards = env_info.rewards                          # get the reward\n",
    "        dones = env_info.local_done                         # see if episode has finished\n",
    "        score += np.array(rewards)                          # update the score\n",
    "        states = next_states                                # roll over the state to next time step\n",
    "        if np.any(dones):                                   # exit loop if episode finished\n",
    "            break\n",
    "    print(\"Score: {}\".format(np.max(score)))\n",
    "    return score"
   ]
  },
  {
   "cell_type": "code",
   "execution_count": 13,
   "metadata": {},
   "outputs": [
    {
     "name": "stdout",
     "output_type": "stream",
     "text": [
      "Testing the Agent\n",
      "Score: 2.600000038743019\n"
     ]
    },
    {
     "data": {
      "text/plain": [
       "array([2.50000004, 2.60000004])"
      ]
     },
     "execution_count": 13,
     "metadata": {},
     "output_type": "execute_result"
    }
   ],
   "source": [
    "testAgent()"
   ]
  },
  {
   "cell_type": "code",
   "execution_count": 14,
   "metadata": {},
   "outputs": [],
   "source": [
    "env.close()"
   ]
  },
  {
   "cell_type": "code",
   "execution_count": null,
   "metadata": {},
   "outputs": [],
   "source": []
  }
 ],
 "metadata": {
  "kernelspec": {
   "display_name": "Python 3",
   "language": "python",
   "name": "python3"
  },
  "language_info": {
   "codemirror_mode": {
    "name": "ipython",
    "version": 3
   },
   "file_extension": ".py",
   "mimetype": "text/x-python",
   "name": "python",
   "nbconvert_exporter": "python",
   "pygments_lexer": "ipython3",
   "version": "3.6.7"
  }
 },
 "nbformat": 4,
 "nbformat_minor": 2
}
